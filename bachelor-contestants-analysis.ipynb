{
 "cells": [
  {
   "cell_type": "code",
   "execution_count": 1,
   "metadata": {
    "collapsed": true
   },
   "outputs": [],
   "source": [
    "import pandas\n",
    "import pylab\n",
    "from pandas import *\n",
    "from pylab import *\n",
    "import matplotlib\n",
    "%matplotlib inline"
   ]
  },
  {
   "cell_type": "code",
   "execution_count": 3,
   "metadata": {
    "collapsed": false
   },
   "outputs": [],
   "source": [
    "contestants=read_csv('./contestants.csv', encoding = \"ISO-8859-1\")"
   ]
  },
  {
   "cell_type": "code",
   "execution_count": 4,
   "metadata": {
    "collapsed": false
   },
   "outputs": [
    {
     "data": {
      "text/plain": [
       "<bound method NDFrame.head of                    Name   Age                       Occupation  \\\n",
       "0          Amanda Marsh  23.0                    Event Planner   \n",
       "1           Trista Rehn  29.0                Miami Heat Dancer   \n",
       "2        Shannon Oliver  24.0  Financial Management Consultant   \n",
       "3                   Kim  24.0                            Nanny   \n",
       "4          Cathy Grimes  22.0                 Graduate Student   \n",
       "5             Christina  28.0                         Attorney   \n",
       "6         LaNease Adams  23.0                          Actress   \n",
       "7                Rhonda  28.0     Commercial Real Estate Agent   \n",
       "8                 Alexa  27.0              Special Ed. Teacher   \n",
       "9                   Amy  28.0           Production Coordinator   \n",
       "10               Angela  25.0                 Hooters Waitress   \n",
       "11            Angelique  27.0                          Actress   \n",
       "12                Katie  23.0            Power Tool Sales Rep.   \n",
       "13              Melissa  25.0                     Photographer   \n",
       "14                 Tina  27.0                 Graduate Student   \n",
       "15                Amber  29.0    Business Development Director   \n",
       "16              Daniela  30.0                Neuropsychologist   \n",
       "17               Denise  30.0                           Doctor   \n",
       "18               Jackie  22.0                      Bar Manager   \n",
       "19                 Jill  31.0                   Retail Manager   \n",
       "20             Kristina  27.0            Advertising Executive   \n",
       "21                 Lisa  29.0                         Attorney   \n",
       "22                Paula  24.0         Insurance Representative   \n",
       "23               Rachel  29.0                6th Grade Teacher   \n",
       "24                Wendi  26.0            Technology Specialist   \n",
       "25   Helene Eksterowicz  27.0              School Psychologist   \n",
       "26         Brooke Smith  22.0                  College Student   \n",
       "27           Gwen Gioia  31.0              Executive Recruiter   \n",
       "28               Angela  27.0                 Registered Nurse   \n",
       "29               Hayley  28.0                   Retail Manager   \n",
       "..                  ...   ...                              ...   \n",
       "393              Alexis  23.0         Aspiring Dolphin Trainer   \n",
       "394              Angela  26.0                            Model   \n",
       "395              Astrid  26.0   Plastic Surgery Office Manager   \n",
       "396              Briana  28.0              Surgical Unit Nurse   \n",
       "397            Brittany  26.0                     Travel Nurse   \n",
       "398            Christen  25.0             Wedding Videographer   \n",
       "399             Corinne  24.0                   Business Owner   \n",
       "400         Danielle L.  27.0             Small Business Owner   \n",
       "401         Danielle M.  31.0                   Neonatal Nurse   \n",
       "402           Dominique  25.0                Restaurant Server   \n",
       "403                 Liz  29.0                            Doula   \n",
       "404           Elizabeth  24.0                Marketing Manager   \n",
       "405              Hailey  23.0                     Photographer   \n",
       "406           Ida Marie  23.0                    Sales Manager   \n",
       "407               Jaimi  28.0                             Chef   \n",
       "408          Jasmine B.  25.0                 Flight Attendant   \n",
       "409          Jasmine G.  29.0            Pro Basketball Dancer   \n",
       "410           Josephine  24.0                 Registered Nurse   \n",
       "411            Kristina  24.0                 Dental Hygienist   \n",
       "412               Lacey  25.0        Digital Marketing Manager   \n",
       "413              Lauren  30.0              Law School Graduate   \n",
       "414            Michelle  24.0                 Food Truck Owner   \n",
       "415              Olivia  25.0     Apparel Sales Representative   \n",
       "416              Rachel  31.0                         Attorney   \n",
       "417               Raven  25.0           Fashion Boutique Owner   \n",
       "418               Sarah  26.0             Grade School Teacher   \n",
       "419            Susannah  26.0                  Account Manager   \n",
       "420              Taylor  23.0          Mental Health Counselor   \n",
       "421             Vanessa  29.0        Special Education Teacher   \n",
       "422             Whitney  25.0               Pilates Instructor   \n",
       "\n",
       "                                Hometown  Height  ElimWeek  Season  \n",
       "0                        Chanute, Kansas     NaN       NaN       1  \n",
       "1                         Miami, Florida     NaN       6.0       1  \n",
       "2                          Dallas, Texas     NaN       5.0       1  \n",
       "3                         Tempe, Arizona     NaN       4.0       1  \n",
       "4                   Terra Haute, Indiana     NaN       3.0       1  \n",
       "5                     Bonita, California     NaN       3.0       1  \n",
       "6                Los Angeles, California     NaN       3.0       1  \n",
       "7                     Woodward, Oklahoma     NaN       3.0       1  \n",
       "8              Beverly Hills, California     NaN       2.0       1  \n",
       "9                     New York, New York     NaN       2.0       1  \n",
       "10                     Avondale, Arizona     NaN       2.0       1  \n",
       "11                   Burbank, California     NaN       2.0       1  \n",
       "12                 Malden, Massachusetts     NaN       2.0       1  \n",
       "13                        Tempe, Arizona     NaN       2.0       1  \n",
       "14                          Plano, Texas     NaN       2.0       1  \n",
       "15               Los Angeles, California     NaN       1.0       1  \n",
       "16                   Seattle, Washington     NaN       1.0       1  \n",
       "17                      Honolulu, Hawaii     NaN       1.0       1  \n",
       "18              Pittsburgh, Pennsylvania     NaN       1.0       1  \n",
       "19                     Chicago, Illinois     NaN       1.0       1  \n",
       "20               Los Angeles, California     NaN       1.0       1  \n",
       "21                         Dallas, Texas     NaN       1.0       1  \n",
       "22                Swansea, Massachusetts     NaN       1.0       1  \n",
       "23                 Eastchester, New York     NaN       1.0       1  \n",
       "24                         Dallas, Texas     NaN       1.0       1  \n",
       "25                Gloucester, New Jersey     NaN       NaN       2  \n",
       "26                  Albertville, Alabama     NaN       7.0       2  \n",
       "27            Philadelphia, Pennsylvania     NaN       6.0       2  \n",
       "28                 Kansas City, Missouri     NaN       5.0       2  \n",
       "29                   Lake Oswego, Oregon     NaN       4.0       2  \n",
       "..                                   ...     ...       ...     ...  \n",
       "393                         Secaucus, NJ   66.00       5.0      21  \n",
       "394                       Greenville, SC   67.00       1.0      21  \n",
       "395                            Tampa, FL   67.50       4.0      21  \n",
       "396                   Salt Lake City, UT   64.00       1.0      21  \n",
       "397                     Santa Monica, CA   62.00       3.0      21  \n",
       "398                            Tulsa, OK   65.00       3.0      21  \n",
       "399                            Miami, FL   61.00       8.0      21  \n",
       "400                      Los Angeles, CA   65.00       6.0      21  \n",
       "401                        Nashville, TN   70.00       7.0      21  \n",
       "402                      Los Angeles, CA   64.00       3.0      21  \n",
       "403                        Las Vegas, NV   64.00       2.0      21  \n",
       "404                           Dallas, TX   67.00       2.0      21  \n",
       "405  Vancouver, British Columbia, Canada   67.00       2.0      21  \n",
       "406                        Harlingen, TX   68.00       1.0      21  \n",
       "407                      New Orleans, LA   62.00       5.0      21  \n",
       "408                           Tacoma, WA   62.50       1.0      21  \n",
       "409                    San Francisco, CA   67.00       6.0      21  \n",
       "410                       Santa Cruz, CA   67.75       5.0      21  \n",
       "411                        Lexington, KY   62.00       7.0      21  \n",
       "412                        Manhattan, NY   63.00       2.0      21  \n",
       "413                           Naples, FL   67.00       1.0      21  \n",
       "414                      Los Angeles, CA   61.00       1.0      21  \n",
       "415                        Anchorage, AK   67.00       1.0      21  \n",
       "416                           Dallas, TX   64.00       NaN      21  \n",
       "417                            Hoxie, AR   66.00       NaN      21  \n",
       "418                    Newport Beach, CA   65.00       4.0      21  \n",
       "419                        San Diego, CA   66.00       1.0      21  \n",
       "420                          Seattle, WA   64.00       5.0      21  \n",
       "421             Montreal, Quebec, Canada   63.50       NaN      21  \n",
       "422                       Chanhassen, MN   68.00       6.0      21  \n",
       "\n",
       "[423 rows x 7 columns]>"
      ]
     },
     "execution_count": 4,
     "metadata": {},
     "output_type": "execute_result"
    }
   ],
   "source": [
    "contestants.head"
   ]
  },
  {
   "cell_type": "code",
   "execution_count": 5,
   "metadata": {
    "collapsed": false,
    "scrolled": true
   },
   "outputs": [],
   "source": [
    "contestants = contestants[np.isfinite(contestants.Age)]"
   ]
  },
  {
   "cell_type": "code",
   "execution_count": 6,
   "metadata": {
    "collapsed": true
   },
   "outputs": [],
   "source": [
    "contestants = contestants[np.isfinite(contestants.ElimWeek)]"
   ]
  },
  {
   "cell_type": "code",
   "execution_count": 7,
   "metadata": {
    "collapsed": false
   },
   "outputs": [
    {
     "data": {
      "text/plain": [
       "<matplotlib.collections.PathCollection at 0x1155707b8>"
      ]
     },
     "execution_count": 7,
     "metadata": {},
     "output_type": "execute_result"
    },
    {
     "data": {
      "image/png": "[encoded data removed]",
      "text/plain": [
       "<matplotlib.figure.Figure at 0x113125c18>"
      ]
     },
     "metadata": {},
     "output_type": "display_data"
    }
   ],
   "source": [
    "matplotlib.pyplot.scatter(contestants.Age, contestants.ElimWeek)"
   ]
  },
  {
   "cell_type": "code",
   "execution_count": 8,
   "metadata": {
    "collapsed": false
   },
   "outputs": [],
   "source": [
    "avgElim = contestants.groupby(contestants.Age).ElimWeek.mean()"
   ]
  },
  {
   "cell_type": "code",
   "execution_count": 9,
   "metadata": {
    "collapsed": false
   },
   "outputs": [],
   "source": [
    "avgElimDf = DataFrame(avgElim).reset_index()"
   ]
  },
  {
   "cell_type": "code",
   "execution_count": 10,
   "metadata": {
    "collapsed": false
   },
   "outputs": [
    {
     "data": {
      "text/plain": [
       "<matplotlib.collections.PathCollection at 0x115aa3c88>"
      ]
     },
     "execution_count": 10,
     "metadata": {},
     "output_type": "execute_result"
    },
    {
     "data": {
      "image/png": "[encoded data removed]",
      "text/plain": [
       "<matplotlib.figure.Figure at 0x115543780>"
      ]
     },
     "metadata": {},
     "output_type": "display_data"
    }
   ],
   "source": [
    "matplotlib.pyplot.scatter(avgElimDf.Age, avgElimDf.ElimWeek)"
   ]
  },
  {
   "cell_type": "code",
   "execution_count": 11,
   "metadata": {
    "collapsed": false
   },
   "outputs": [
    {
     "data": {
      "text/html": [
       "<div>\n",
       "<table border=\"1\" class=\"dataframe\">\n",
       "  <thead>\n",
       "    <tr style=\"text-align: right;\">\n",
       "      <th></th>\n",
       "      <th>Age</th>\n",
       "      <th>ElimWeek</th>\n",
       "    </tr>\n",
       "  </thead>\n",
       "  <tbody>\n",
       "    <tr>\n",
       "      <th>0</th>\n",
       "      <td>21.0</td>\n",
       "      <td>3.000000</td>\n",
       "    </tr>\n",
       "    <tr>\n",
       "      <th>1</th>\n",
       "      <td>22.0</td>\n",
       "      <td>3.230769</td>\n",
       "    </tr>\n",
       "    <tr>\n",
       "      <th>2</th>\n",
       "      <td>23.0</td>\n",
       "      <td>3.000000</td>\n",
       "    </tr>\n",
       "    <tr>\n",
       "      <th>3</th>\n",
       "      <td>24.0</td>\n",
       "      <td>3.620690</td>\n",
       "    </tr>\n",
       "    <tr>\n",
       "      <th>4</th>\n",
       "      <td>25.0</td>\n",
       "      <td>3.171429</td>\n",
       "    </tr>\n",
       "    <tr>\n",
       "      <th>5</th>\n",
       "      <td>26.0</td>\n",
       "      <td>3.454545</td>\n",
       "    </tr>\n",
       "    <tr>\n",
       "      <th>6</th>\n",
       "      <td>27.0</td>\n",
       "      <td>3.276596</td>\n",
       "    </tr>\n",
       "    <tr>\n",
       "      <th>7</th>\n",
       "      <td>28.0</td>\n",
       "      <td>2.828571</td>\n",
       "    </tr>\n",
       "    <tr>\n",
       "      <th>8</th>\n",
       "      <td>29.0</td>\n",
       "      <td>3.241379</td>\n",
       "    </tr>\n",
       "    <tr>\n",
       "      <th>9</th>\n",
       "      <td>30.0</td>\n",
       "      <td>2.166667</td>\n",
       "    </tr>\n",
       "    <tr>\n",
       "      <th>10</th>\n",
       "      <td>31.0</td>\n",
       "      <td>2.200000</td>\n",
       "    </tr>\n",
       "    <tr>\n",
       "      <th>11</th>\n",
       "      <td>32.0</td>\n",
       "      <td>5.000000</td>\n",
       "    </tr>\n",
       "    <tr>\n",
       "      <th>12</th>\n",
       "      <td>33.0</td>\n",
       "      <td>2.500000</td>\n",
       "    </tr>\n",
       "    <tr>\n",
       "      <th>13</th>\n",
       "      <td>34.0</td>\n",
       "      <td>2.333333</td>\n",
       "    </tr>\n",
       "    <tr>\n",
       "      <th>14</th>\n",
       "      <td>35.0</td>\n",
       "      <td>1.000000</td>\n",
       "    </tr>\n",
       "    <tr>\n",
       "      <th>15</th>\n",
       "      <td>36.0</td>\n",
       "      <td>1.000000</td>\n",
       "    </tr>\n",
       "  </tbody>\n",
       "</table>\n",
       "</div>"
      ],
      "text/plain": [
       "     Age  ElimWeek\n",
       "0   21.0  3.000000\n",
       "1   22.0  3.230769\n",
       "2   23.0  3.000000\n",
       "3   24.0  3.620690\n",
       "4   25.0  3.171429\n",
       "5   26.0  3.454545\n",
       "6   27.0  3.276596\n",
       "7   28.0  2.828571\n",
       "8   29.0  3.241379\n",
       "9   30.0  2.166667\n",
       "10  31.0  2.200000\n",
       "11  32.0  5.000000\n",
       "12  33.0  2.500000\n",
       "13  34.0  2.333333\n",
       "14  35.0  1.000000\n",
       "15  36.0  1.000000"
      ]
     },
     "execution_count": 11,
     "metadata": {},
     "output_type": "execute_result"
    }
   ],
   "source": [
    "avgElimDf"
   ]
  },
  {
   "cell_type": "code",
   "execution_count": null,
   "metadata": {
    "collapsed": true
   },
   "outputs": [],
   "source": []
  }
 ],
 "metadata": {
  "anaconda-cloud": {},
  "kernelspec": {
   "display_name": "Python [conda root]",
   "language": "python",
   "name": "conda-root-py"
  },
  "language_info": {
   "codemirror_mode": {
    "name": "ipython",
    "version": 3
   },
   "file_extension": ".py",
   "mimetype": "text/x-python",
   "name": "python",
   "nbconvert_exporter": "python",
   "pygments_lexer": "ipython3",
   "version": "3.5.2"
  }
 },
 "nbformat": 4,
 "nbformat_minor": 1
}
